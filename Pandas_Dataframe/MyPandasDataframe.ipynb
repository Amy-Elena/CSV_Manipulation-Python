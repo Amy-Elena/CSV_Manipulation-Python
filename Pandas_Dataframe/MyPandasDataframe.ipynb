{
 "cells": [
  {
   "cell_type": "code",
   "execution_count": 1,
   "id": "8637ec28-5e7b-425f-9665-4b5d94e9a14d",
   "metadata": {},
   "outputs": [],
   "source": [
    "# Import pandas package\n",
    "import pandas as pd"
   ]
  },
  {
   "cell_type": "markdown",
   "id": "0bc4e6bd-f3e0-4eed-a134-ae553d41fcf8",
   "metadata": {},
   "source": [
    "---"
   ]
  },
  {
   "cell_type": "markdown",
   "id": "9a87a618-8e05-4826-a038-73dc8ce65c1a",
   "metadata": {},
   "source": [
    "##### Dictionary of Lists"
   ]
  },
  {
   "cell_type": "code",
   "execution_count": 3,
   "id": "38ce8c87-9ac0-4f50-bf8f-6ab739443df9",
   "metadata": {},
   "outputs": [],
   "source": [
    "#Create a DataFrame using Dictionary of lists\n",
    "food_dict_of_lists = {\"Fruits\":pd.Series(data=['apple','mango','lemon','orange']), \n",
    "        \"Vegetables\":pd.Series(data=['cucumber','carrot','cabbage','spinach']),\n",
    "        \"Spices\":pd.Series(data=['thyme','ginger','garlic','cinnamon'])}\n"
   ]
  },
  {
   "cell_type": "code",
   "execution_count": 4,
   "id": "5054455b-0b5c-4916-b38d-5bf01eea1c1c",
   "metadata": {},
   "outputs": [
    {
     "data": {
      "text/html": [
       "<div>\n",
       "<style scoped>\n",
       "    .dataframe tbody tr th:only-of-type {\n",
       "        vertical-align: middle;\n",
       "    }\n",
       "\n",
       "    .dataframe tbody tr th {\n",
       "        vertical-align: top;\n",
       "    }\n",
       "\n",
       "    .dataframe thead th {\n",
       "        text-align: right;\n",
       "    }\n",
       "</style>\n",
       "<table border=\"1\" class=\"dataframe\">\n",
       "  <thead>\n",
       "    <tr style=\"text-align: right;\">\n",
       "      <th></th>\n",
       "      <th>Fruits</th>\n",
       "      <th>Vegetables</th>\n",
       "      <th>Spices</th>\n",
       "    </tr>\n",
       "  </thead>\n",
       "  <tbody>\n",
       "    <tr>\n",
       "      <th>0</th>\n",
       "      <td>apple</td>\n",
       "      <td>cucumber</td>\n",
       "      <td>thyme</td>\n",
       "    </tr>\n",
       "    <tr>\n",
       "      <th>1</th>\n",
       "      <td>mango</td>\n",
       "      <td>carrot</td>\n",
       "      <td>ginger</td>\n",
       "    </tr>\n",
       "    <tr>\n",
       "      <th>2</th>\n",
       "      <td>lemon</td>\n",
       "      <td>cabbage</td>\n",
       "      <td>garlic</td>\n",
       "    </tr>\n",
       "    <tr>\n",
       "      <th>3</th>\n",
       "      <td>orange</td>\n",
       "      <td>spinach</td>\n",
       "      <td>cinnamon</td>\n",
       "    </tr>\n",
       "  </tbody>\n",
       "</table>\n",
       "</div>"
      ],
      "text/plain": [
       "   Fruits Vegetables    Spices\n",
       "0   apple   cucumber     thyme\n",
       "1   mango     carrot    ginger\n",
       "2   lemon    cabbage    garlic\n",
       "3  orange    spinach  cinnamon"
      ]
     },
     "execution_count": 4,
     "metadata": {},
     "output_type": "execute_result"
    }
   ],
   "source": [
    "food = pd.DataFrame(food_dict_of_lists)\n",
    "food"
   ]
  },
  {
   "cell_type": "markdown",
   "id": "e0437590-dca7-4662-9464-e4c56eb5e141",
   "metadata": {},
   "source": [
    "---"
   ]
  },
  {
   "cell_type": "markdown",
   "id": "6b602e52-f28a-47b7-8642-3280a8b33278",
   "metadata": {},
   "source": [
    "##### List of Dictionaries"
   ]
  },
  {
   "cell_type": "code",
   "execution_count": 5,
   "id": "873bc008-f19e-4ce6-a9c5-77a163f5e394",
   "metadata": {},
   "outputs": [],
   "source": [
    "#Create a DataFrame using List of dictionaries\n",
    "food_list_of_dicts = [{'Fruits':'apple', 'Vegetables':'cucumber', 'Spices':'thyme'},\n",
    "                      {'Fruits':'mango', 'Vegetables':'carrot', 'Spices':'ginger'},\n",
    "                      {'Fruits':'lemon', 'Vegetables':'cabbage', 'Spices':'garlic'},\n",
    "                      {'Fruits':'orange', 'Vegetables':'spinach', 'Spices':'cinnamon'}]"
   ]
  },
  {
   "cell_type": "code",
   "execution_count": 6,
   "id": "a8bfa604-3067-49bb-9ee4-f9c5575d84f9",
   "metadata": {},
   "outputs": [
    {
     "data": {
      "text/html": [
       "<div>\n",
       "<style scoped>\n",
       "    .dataframe tbody tr th:only-of-type {\n",
       "        vertical-align: middle;\n",
       "    }\n",
       "\n",
       "    .dataframe tbody tr th {\n",
       "        vertical-align: top;\n",
       "    }\n",
       "\n",
       "    .dataframe thead th {\n",
       "        text-align: right;\n",
       "    }\n",
       "</style>\n",
       "<table border=\"1\" class=\"dataframe\">\n",
       "  <thead>\n",
       "    <tr style=\"text-align: right;\">\n",
       "      <th></th>\n",
       "      <th>Fruits</th>\n",
       "      <th>Vegetables</th>\n",
       "      <th>Spices</th>\n",
       "    </tr>\n",
       "  </thead>\n",
       "  <tbody>\n",
       "    <tr>\n",
       "      <th>0</th>\n",
       "      <td>apple</td>\n",
       "      <td>cucumber</td>\n",
       "      <td>thyme</td>\n",
       "    </tr>\n",
       "    <tr>\n",
       "      <th>1</th>\n",
       "      <td>mango</td>\n",
       "      <td>carrot</td>\n",
       "      <td>ginger</td>\n",
       "    </tr>\n",
       "    <tr>\n",
       "      <th>2</th>\n",
       "      <td>lemon</td>\n",
       "      <td>cabbage</td>\n",
       "      <td>garlic</td>\n",
       "    </tr>\n",
       "    <tr>\n",
       "      <th>3</th>\n",
       "      <td>orange</td>\n",
       "      <td>spinach</td>\n",
       "      <td>cinnamon</td>\n",
       "    </tr>\n",
       "  </tbody>\n",
       "</table>\n",
       "</div>"
      ],
      "text/plain": [
       "   Fruits Vegetables    Spices\n",
       "0   apple   cucumber     thyme\n",
       "1   mango     carrot    ginger\n",
       "2   lemon    cabbage    garlic\n",
       "3  orange    spinach  cinnamon"
      ]
     },
     "execution_count": 6,
     "metadata": {},
     "output_type": "execute_result"
    }
   ],
   "source": [
    "food2 = pd.DataFrame(food_list_of_dicts)\n",
    "food2"
   ]
  },
  {
   "cell_type": "markdown",
   "id": "981f88ed-5b73-4df3-b137-68097a107124",
   "metadata": {},
   "source": [
    "---"
   ]
  },
  {
   "cell_type": "code",
   "execution_count": 7,
   "id": "15a52dbf-ef6f-4581-a473-5d5ef1978cab",
   "metadata": {},
   "outputs": [
    {
     "name": "stdout",
     "output_type": "stream",
     "text": [
      "--- Add new row\n"
     ]
    },
    {
     "data": {
      "text/html": [
       "<div>\n",
       "<style scoped>\n",
       "    .dataframe tbody tr th:only-of-type {\n",
       "        vertical-align: middle;\n",
       "    }\n",
       "\n",
       "    .dataframe tbody tr th {\n",
       "        vertical-align: top;\n",
       "    }\n",
       "\n",
       "    .dataframe thead th {\n",
       "        text-align: right;\n",
       "    }\n",
       "</style>\n",
       "<table border=\"1\" class=\"dataframe\">\n",
       "  <thead>\n",
       "    <tr style=\"text-align: right;\">\n",
       "      <th></th>\n",
       "      <th>Fruits</th>\n",
       "      <th>Vegetables</th>\n",
       "      <th>Spices</th>\n",
       "    </tr>\n",
       "  </thead>\n",
       "  <tbody>\n",
       "    <tr>\n",
       "      <th>0</th>\n",
       "      <td>apple</td>\n",
       "      <td>cucumber</td>\n",
       "      <td>thyme</td>\n",
       "    </tr>\n",
       "    <tr>\n",
       "      <th>1</th>\n",
       "      <td>mango</td>\n",
       "      <td>carrot</td>\n",
       "      <td>ginger</td>\n",
       "    </tr>\n",
       "    <tr>\n",
       "      <th>2</th>\n",
       "      <td>lemon</td>\n",
       "      <td>cabbage</td>\n",
       "      <td>garlic</td>\n",
       "    </tr>\n",
       "    <tr>\n",
       "      <th>3</th>\n",
       "      <td>orange</td>\n",
       "      <td>spinach</td>\n",
       "      <td>cinnamon</td>\n",
       "    </tr>\n",
       "    <tr>\n",
       "      <th>4</th>\n",
       "      <td>pineapple</td>\n",
       "      <td>lettuce</td>\n",
       "      <td>nutmeg</td>\n",
       "    </tr>\n",
       "  </tbody>\n",
       "</table>\n",
       "</div>"
      ],
      "text/plain": [
       "      Fruits Vegetables    Spices\n",
       "0      apple   cucumber     thyme\n",
       "1      mango     carrot    ginger\n",
       "2      lemon    cabbage    garlic\n",
       "3     orange    spinach  cinnamon\n",
       "4  pineapple    lettuce    nutmeg"
      ]
     },
     "execution_count": 7,
     "metadata": {},
     "output_type": "execute_result"
    }
   ],
   "source": [
    "#Add new rows to a DataFrame\n",
    "#New row 1 using .loc()\n",
    "print('--- Add new row')\n",
    "food2.loc[4] = ['pineapple', 'lettuce', 'nutmeg']\n",
    "food2"
   ]
  },
  {
   "cell_type": "code",
   "execution_count": 8,
   "id": "ae840659-c312-4aea-a24d-634b4b9ac908",
   "metadata": {},
   "outputs": [
    {
     "name": "stdout",
     "output_type": "stream",
     "text": [
      "--- Add another new row\n"
     ]
    },
    {
     "data": {
      "text/html": [
       "<div>\n",
       "<style scoped>\n",
       "    .dataframe tbody tr th:only-of-type {\n",
       "        vertical-align: middle;\n",
       "    }\n",
       "\n",
       "    .dataframe tbody tr th {\n",
       "        vertical-align: top;\n",
       "    }\n",
       "\n",
       "    .dataframe thead th {\n",
       "        text-align: right;\n",
       "    }\n",
       "</style>\n",
       "<table border=\"1\" class=\"dataframe\">\n",
       "  <thead>\n",
       "    <tr style=\"text-align: right;\">\n",
       "      <th></th>\n",
       "      <th>Fruits</th>\n",
       "      <th>Vegetables</th>\n",
       "      <th>Spices</th>\n",
       "    </tr>\n",
       "  </thead>\n",
       "  <tbody>\n",
       "    <tr>\n",
       "      <th>0</th>\n",
       "      <td>apple</td>\n",
       "      <td>cucumber</td>\n",
       "      <td>thyme</td>\n",
       "    </tr>\n",
       "    <tr>\n",
       "      <th>1</th>\n",
       "      <td>mango</td>\n",
       "      <td>carrot</td>\n",
       "      <td>ginger</td>\n",
       "    </tr>\n",
       "    <tr>\n",
       "      <th>2</th>\n",
       "      <td>lemon</td>\n",
       "      <td>cabbage</td>\n",
       "      <td>garlic</td>\n",
       "    </tr>\n",
       "    <tr>\n",
       "      <th>3</th>\n",
       "      <td>orange</td>\n",
       "      <td>spinach</td>\n",
       "      <td>cinnamon</td>\n",
       "    </tr>\n",
       "    <tr>\n",
       "      <th>4</th>\n",
       "      <td>pineapple</td>\n",
       "      <td>lettuce</td>\n",
       "      <td>nutmeg</td>\n",
       "    </tr>\n",
       "    <tr>\n",
       "      <th>5</th>\n",
       "      <td>banana</td>\n",
       "      <td>tomatoes</td>\n",
       "      <td>cumin</td>\n",
       "    </tr>\n",
       "  </tbody>\n",
       "</table>\n",
       "</div>"
      ],
      "text/plain": [
       "      Fruits Vegetables    Spices\n",
       "0      apple   cucumber     thyme\n",
       "1      mango     carrot    ginger\n",
       "2      lemon    cabbage    garlic\n",
       "3     orange    spinach  cinnamon\n",
       "4  pineapple    lettuce    nutmeg\n",
       "5     banana   tomatoes     cumin"
      ]
     },
     "execution_count": 8,
     "metadata": {},
     "output_type": "execute_result"
    }
   ],
   "source": [
    "#New row 2 using .concat()\n",
    "print('--- Add another new row')\n",
    "food_row = pd.DataFrame({\"Fruits\": ['banana'],\"Vegetables\": ['tomatoes'], \"Spices\": ['cumin']},\n",
    "                        index=[5])\n",
    "\n",
    "food2 = pd.concat([food2, food_row])\n",
    "food2"
   ]
  },
  {
   "cell_type": "code",
   "execution_count": 9,
   "id": "5a6bcbfb-ec78-4bb8-995c-cdbd1ff8fde6",
   "metadata": {},
   "outputs": [
    {
     "name": "stdout",
     "output_type": "stream",
     "text": [
      "--- Rename one column\n"
     ]
    },
    {
     "data": {
      "text/html": [
       "<div>\n",
       "<style scoped>\n",
       "    .dataframe tbody tr th:only-of-type {\n",
       "        vertical-align: middle;\n",
       "    }\n",
       "\n",
       "    .dataframe tbody tr th {\n",
       "        vertical-align: top;\n",
       "    }\n",
       "\n",
       "    .dataframe thead th {\n",
       "        text-align: right;\n",
       "    }\n",
       "</style>\n",
       "<table border=\"1\" class=\"dataframe\">\n",
       "  <thead>\n",
       "    <tr style=\"text-align: right;\">\n",
       "      <th></th>\n",
       "      <th>Fruits</th>\n",
       "      <th>Veggies</th>\n",
       "      <th>Spices</th>\n",
       "    </tr>\n",
       "  </thead>\n",
       "  <tbody>\n",
       "    <tr>\n",
       "      <th>0</th>\n",
       "      <td>apple</td>\n",
       "      <td>cucumber</td>\n",
       "      <td>thyme</td>\n",
       "    </tr>\n",
       "    <tr>\n",
       "      <th>1</th>\n",
       "      <td>mango</td>\n",
       "      <td>carrot</td>\n",
       "      <td>ginger</td>\n",
       "    </tr>\n",
       "    <tr>\n",
       "      <th>2</th>\n",
       "      <td>lemon</td>\n",
       "      <td>cabbage</td>\n",
       "      <td>garlic</td>\n",
       "    </tr>\n",
       "    <tr>\n",
       "      <th>3</th>\n",
       "      <td>orange</td>\n",
       "      <td>spinach</td>\n",
       "      <td>cinnamon</td>\n",
       "    </tr>\n",
       "    <tr>\n",
       "      <th>4</th>\n",
       "      <td>pineapple</td>\n",
       "      <td>lettuce</td>\n",
       "      <td>nutmeg</td>\n",
       "    </tr>\n",
       "    <tr>\n",
       "      <th>5</th>\n",
       "      <td>banana</td>\n",
       "      <td>tomatoes</td>\n",
       "      <td>cumin</td>\n",
       "    </tr>\n",
       "  </tbody>\n",
       "</table>\n",
       "</div>"
      ],
      "text/plain": [
       "      Fruits   Veggies    Spices\n",
       "0      apple  cucumber     thyme\n",
       "1      mango    carrot    ginger\n",
       "2      lemon   cabbage    garlic\n",
       "3     orange   spinach  cinnamon\n",
       "4  pineapple   lettuce    nutmeg\n",
       "5     banana  tomatoes     cumin"
      ]
     },
     "execution_count": 9,
     "metadata": {},
     "output_type": "execute_result"
    }
   ],
   "source": [
    "#Rename a column, and multiple columns\n",
    "#Rename a column using rename()\n",
    "print('--- Rename one column')\n",
    "food2.rename(columns = {'Vegetables':'Veggies'}, inplace = True)\n",
    "food2"
   ]
  },
  {
   "cell_type": "code",
   "execution_count": 10,
   "id": "9683e36c-3f54-4943-bdb2-19337efb583f",
   "metadata": {},
   "outputs": [
    {
     "name": "stdout",
     "output_type": "stream",
     "text": [
      "--- Rename multiple columns\n"
     ]
    },
    {
     "name": "stderr",
     "output_type": "stream",
     "text": [
      "C:\\Users\\Amara\\AppData\\Local\\Temp\\ipykernel_17152\\901613960.py:3: FutureWarning: DataFrame.set_axis 'inplace' keyword is deprecated and will be removed in a future version. Use `obj = obj.set_axis(..., copy=False)` instead\n",
      "  food2.set_axis(['Produce', 'Veggies', 'Herb&Spice'], axis='columns', inplace=True)\n"
     ]
    },
    {
     "data": {
      "text/html": [
       "<div>\n",
       "<style scoped>\n",
       "    .dataframe tbody tr th:only-of-type {\n",
       "        vertical-align: middle;\n",
       "    }\n",
       "\n",
       "    .dataframe tbody tr th {\n",
       "        vertical-align: top;\n",
       "    }\n",
       "\n",
       "    .dataframe thead th {\n",
       "        text-align: right;\n",
       "    }\n",
       "</style>\n",
       "<table border=\"1\" class=\"dataframe\">\n",
       "  <thead>\n",
       "    <tr style=\"text-align: right;\">\n",
       "      <th></th>\n",
       "      <th>Produce</th>\n",
       "      <th>Veggies</th>\n",
       "      <th>Herb&amp;Spice</th>\n",
       "    </tr>\n",
       "  </thead>\n",
       "  <tbody>\n",
       "    <tr>\n",
       "      <th>0</th>\n",
       "      <td>apple</td>\n",
       "      <td>cucumber</td>\n",
       "      <td>thyme</td>\n",
       "    </tr>\n",
       "    <tr>\n",
       "      <th>1</th>\n",
       "      <td>mango</td>\n",
       "      <td>carrot</td>\n",
       "      <td>ginger</td>\n",
       "    </tr>\n",
       "    <tr>\n",
       "      <th>2</th>\n",
       "      <td>lemon</td>\n",
       "      <td>cabbage</td>\n",
       "      <td>garlic</td>\n",
       "    </tr>\n",
       "    <tr>\n",
       "      <th>3</th>\n",
       "      <td>orange</td>\n",
       "      <td>spinach</td>\n",
       "      <td>cinnamon</td>\n",
       "    </tr>\n",
       "    <tr>\n",
       "      <th>4</th>\n",
       "      <td>pineapple</td>\n",
       "      <td>lettuce</td>\n",
       "      <td>nutmeg</td>\n",
       "    </tr>\n",
       "    <tr>\n",
       "      <th>5</th>\n",
       "      <td>banana</td>\n",
       "      <td>tomatoes</td>\n",
       "      <td>cumin</td>\n",
       "    </tr>\n",
       "  </tbody>\n",
       "</table>\n",
       "</div>"
      ],
      "text/plain": [
       "     Produce   Veggies Herb&Spice\n",
       "0      apple  cucumber      thyme\n",
       "1      mango    carrot     ginger\n",
       "2      lemon   cabbage     garlic\n",
       "3     orange   spinach   cinnamon\n",
       "4  pineapple   lettuce     nutmeg\n",
       "5     banana  tomatoes      cumin"
      ]
     },
     "execution_count": 10,
     "metadata": {},
     "output_type": "execute_result"
    }
   ],
   "source": [
    "#Rename multiple columns using .set_axis()\n",
    "print('--- Rename multiple columns')\n",
    "food2.set_axis(['Produce', 'Veggies', 'Herb&Spice'], axis='columns', inplace=True)\n",
    "food2"
   ]
  },
  {
   "cell_type": "code",
   "execution_count": 11,
   "id": "43ea5ff9-d1ed-4fa4-9978-c203ab978bbd",
   "metadata": {},
   "outputs": [
    {
     "name": "stdout",
     "output_type": "stream",
     "text": [
      "--- Rename row index\n"
     ]
    },
    {
     "data": {
      "text/html": [
       "<div>\n",
       "<style scoped>\n",
       "    .dataframe tbody tr th:only-of-type {\n",
       "        vertical-align: middle;\n",
       "    }\n",
       "\n",
       "    .dataframe tbody tr th {\n",
       "        vertical-align: top;\n",
       "    }\n",
       "\n",
       "    .dataframe thead th {\n",
       "        text-align: right;\n",
       "    }\n",
       "</style>\n",
       "<table border=\"1\" class=\"dataframe\">\n",
       "  <thead>\n",
       "    <tr style=\"text-align: right;\">\n",
       "      <th></th>\n",
       "      <th>Produce</th>\n",
       "      <th>Veggies</th>\n",
       "      <th>Herb&amp;Spice</th>\n",
       "    </tr>\n",
       "  </thead>\n",
       "  <tbody>\n",
       "    <tr>\n",
       "      <th>0</th>\n",
       "      <td>apple</td>\n",
       "      <td>cucumber</td>\n",
       "      <td>thyme</td>\n",
       "    </tr>\n",
       "    <tr>\n",
       "      <th>i</th>\n",
       "      <td>mango</td>\n",
       "      <td>carrot</td>\n",
       "      <td>ginger</td>\n",
       "    </tr>\n",
       "    <tr>\n",
       "      <th>2</th>\n",
       "      <td>lemon</td>\n",
       "      <td>cabbage</td>\n",
       "      <td>garlic</td>\n",
       "    </tr>\n",
       "    <tr>\n",
       "      <th>3</th>\n",
       "      <td>orange</td>\n",
       "      <td>spinach</td>\n",
       "      <td>cinnamon</td>\n",
       "    </tr>\n",
       "    <tr>\n",
       "      <th>4</th>\n",
       "      <td>pineapple</td>\n",
       "      <td>lettuce</td>\n",
       "      <td>nutmeg</td>\n",
       "    </tr>\n",
       "    <tr>\n",
       "      <th>5</th>\n",
       "      <td>banana</td>\n",
       "      <td>tomatoes</td>\n",
       "      <td>cumin</td>\n",
       "    </tr>\n",
       "  </tbody>\n",
       "</table>\n",
       "</div>"
      ],
      "text/plain": [
       "     Produce   Veggies Herb&Spice\n",
       "0      apple  cucumber      thyme\n",
       "i      mango    carrot     ginger\n",
       "2      lemon   cabbage     garlic\n",
       "3     orange   spinach   cinnamon\n",
       "4  pineapple   lettuce     nutmeg\n",
       "5     banana  tomatoes      cumin"
      ]
     },
     "execution_count": 11,
     "metadata": {},
     "output_type": "execute_result"
    }
   ],
   "source": [
    "#Rename row index, and multiple row indexes\n",
    "#Rename row index using .rename()\n",
    "print('--- Rename row index')\n",
    "food2 = food2.rename(index={1: 'i'})\n",
    "food2"
   ]
  },
  {
   "cell_type": "code",
   "execution_count": 12,
   "id": "4101239e-8f56-408b-b0c5-408e53a69f42",
   "metadata": {},
   "outputs": [
    {
     "name": "stdout",
     "output_type": "stream",
     "text": [
      "--- Rename multiple row indexes\n"
     ]
    },
    {
     "data": {
      "text/html": [
       "<div>\n",
       "<style scoped>\n",
       "    .dataframe tbody tr th:only-of-type {\n",
       "        vertical-align: middle;\n",
       "    }\n",
       "\n",
       "    .dataframe tbody tr th {\n",
       "        vertical-align: top;\n",
       "    }\n",
       "\n",
       "    .dataframe thead th {\n",
       "        text-align: right;\n",
       "    }\n",
       "</style>\n",
       "<table border=\"1\" class=\"dataframe\">\n",
       "  <thead>\n",
       "    <tr style=\"text-align: right;\">\n",
       "      <th></th>\n",
       "      <th>Produce</th>\n",
       "      <th>Veggies</th>\n",
       "      <th>Herb&amp;Spice</th>\n",
       "    </tr>\n",
       "  </thead>\n",
       "  <tbody>\n",
       "    <tr>\n",
       "      <th>0</th>\n",
       "      <td>apple</td>\n",
       "      <td>cucumber</td>\n",
       "      <td>thyme</td>\n",
       "    </tr>\n",
       "    <tr>\n",
       "      <th>i</th>\n",
       "      <td>mango</td>\n",
       "      <td>carrot</td>\n",
       "      <td>ginger</td>\n",
       "    </tr>\n",
       "    <tr>\n",
       "      <th>ii</th>\n",
       "      <td>lemon</td>\n",
       "      <td>cabbage</td>\n",
       "      <td>garlic</td>\n",
       "    </tr>\n",
       "    <tr>\n",
       "      <th>iii</th>\n",
       "      <td>orange</td>\n",
       "      <td>spinach</td>\n",
       "      <td>cinnamon</td>\n",
       "    </tr>\n",
       "    <tr>\n",
       "      <th>iv</th>\n",
       "      <td>pineapple</td>\n",
       "      <td>lettuce</td>\n",
       "      <td>nutmeg</td>\n",
       "    </tr>\n",
       "    <tr>\n",
       "      <th>v</th>\n",
       "      <td>banana</td>\n",
       "      <td>tomatoes</td>\n",
       "      <td>cumin</td>\n",
       "    </tr>\n",
       "  </tbody>\n",
       "</table>\n",
       "</div>"
      ],
      "text/plain": [
       "       Produce   Veggies Herb&Spice\n",
       "0        apple  cucumber      thyme\n",
       "i        mango    carrot     ginger\n",
       "ii       lemon   cabbage     garlic\n",
       "iii     orange   spinach   cinnamon\n",
       "iv   pineapple   lettuce     nutmeg\n",
       "v       banana  tomatoes      cumin"
      ]
     },
     "execution_count": 12,
     "metadata": {},
     "output_type": "execute_result"
    }
   ],
   "source": [
    "#Rename multiple row indexes using .rename()\n",
    "print('--- Rename multiple row indexes')\n",
    "food2 = food2.rename(index={1: 'i', 2: 'ii', 3: 'iii', 4:'iv', 5:'v'})\n",
    "food2"
   ]
  },
  {
   "cell_type": "code",
   "execution_count": 13,
   "id": "b6c4e9b3-3597-4e50-a769-805189982856",
   "metadata": {},
   "outputs": [
    {
     "name": "stdout",
     "output_type": "stream",
     "text": [
      "--- Delete rows\n"
     ]
    },
    {
     "data": {
      "text/html": [
       "<div>\n",
       "<style scoped>\n",
       "    .dataframe tbody tr th:only-of-type {\n",
       "        vertical-align: middle;\n",
       "    }\n",
       "\n",
       "    .dataframe tbody tr th {\n",
       "        vertical-align: top;\n",
       "    }\n",
       "\n",
       "    .dataframe thead th {\n",
       "        text-align: right;\n",
       "    }\n",
       "</style>\n",
       "<table border=\"1\" class=\"dataframe\">\n",
       "  <thead>\n",
       "    <tr style=\"text-align: right;\">\n",
       "      <th></th>\n",
       "      <th>Produce</th>\n",
       "      <th>Veggies</th>\n",
       "      <th>Herb&amp;Spice</th>\n",
       "    </tr>\n",
       "  </thead>\n",
       "  <tbody>\n",
       "    <tr>\n",
       "      <th>0</th>\n",
       "      <td>apple</td>\n",
       "      <td>cucumber</td>\n",
       "      <td>thyme</td>\n",
       "    </tr>\n",
       "    <tr>\n",
       "      <th>i</th>\n",
       "      <td>mango</td>\n",
       "      <td>carrot</td>\n",
       "      <td>ginger</td>\n",
       "    </tr>\n",
       "    <tr>\n",
       "      <th>ii</th>\n",
       "      <td>lemon</td>\n",
       "      <td>cabbage</td>\n",
       "      <td>garlic</td>\n",
       "    </tr>\n",
       "    <tr>\n",
       "      <th>iii</th>\n",
       "      <td>orange</td>\n",
       "      <td>spinach</td>\n",
       "      <td>cinnamon</td>\n",
       "    </tr>\n",
       "  </tbody>\n",
       "</table>\n",
       "</div>"
      ],
      "text/plain": [
       "    Produce   Veggies Herb&Spice\n",
       "0     apple  cucumber      thyme\n",
       "i     mango    carrot     ginger\n",
       "ii    lemon   cabbage     garlic\n",
       "iii  orange   spinach   cinnamon"
      ]
     },
     "execution_count": 13,
     "metadata": {},
     "output_type": "execute_result"
    }
   ],
   "source": [
    "#Delete rows\n",
    "#Deleting rows using .drop()\n",
    "print('--- Delete rows')\n",
    "food3 = food2.drop(['iv','v'])\n",
    "food3"
   ]
  },
  {
   "cell_type": "code",
   "execution_count": 14,
   "id": "5c80f76a-42ad-47f5-8d92-3e9948d5caad",
   "metadata": {},
   "outputs": [
    {
     "name": "stdout",
     "output_type": "stream",
     "text": [
      "--- Delete columns\n"
     ]
    },
    {
     "data": {
      "text/html": [
       "<div>\n",
       "<style scoped>\n",
       "    .dataframe tbody tr th:only-of-type {\n",
       "        vertical-align: middle;\n",
       "    }\n",
       "\n",
       "    .dataframe tbody tr th {\n",
       "        vertical-align: top;\n",
       "    }\n",
       "\n",
       "    .dataframe thead th {\n",
       "        text-align: right;\n",
       "    }\n",
       "</style>\n",
       "<table border=\"1\" class=\"dataframe\">\n",
       "  <thead>\n",
       "    <tr style=\"text-align: right;\">\n",
       "      <th></th>\n",
       "      <th>Produce</th>\n",
       "      <th>Veggies</th>\n",
       "    </tr>\n",
       "  </thead>\n",
       "  <tbody>\n",
       "    <tr>\n",
       "      <th>0</th>\n",
       "      <td>apple</td>\n",
       "      <td>cucumber</td>\n",
       "    </tr>\n",
       "    <tr>\n",
       "      <th>i</th>\n",
       "      <td>mango</td>\n",
       "      <td>carrot</td>\n",
       "    </tr>\n",
       "    <tr>\n",
       "      <th>ii</th>\n",
       "      <td>lemon</td>\n",
       "      <td>cabbage</td>\n",
       "    </tr>\n",
       "    <tr>\n",
       "      <th>iii</th>\n",
       "      <td>orange</td>\n",
       "      <td>spinach</td>\n",
       "    </tr>\n",
       "  </tbody>\n",
       "</table>\n",
       "</div>"
      ],
      "text/plain": [
       "    Produce   Veggies\n",
       "0     apple  cucumber\n",
       "i     mango    carrot\n",
       "ii    lemon   cabbage\n",
       "iii  orange   spinach"
      ]
     },
     "execution_count": 14,
     "metadata": {},
     "output_type": "execute_result"
    }
   ],
   "source": [
    "#Delete columns\n",
    "#Deleting columns using .drop()\n",
    "print('--- Delete columns')\n",
    "food4 = food3.drop(columns='Herb&Spice')\n",
    "food4"
   ]
  },
  {
   "cell_type": "code",
   "execution_count": 15,
   "id": "8e5eb23f-7c22-4bb8-9c5b-432b7e3f74e1",
   "metadata": {},
   "outputs": [
    {
     "name": "stdout",
     "output_type": "stream",
     "text": [
      "--- Pop column indexes\n"
     ]
    },
    {
     "data": {
      "text/plain": [
       "0      cucumber\n",
       "i        carrot\n",
       "ii      cabbage\n",
       "iii     spinach\n",
       "Name: Veggies, dtype: object"
      ]
     },
     "execution_count": 15,
     "metadata": {},
     "output_type": "execute_result"
    }
   ],
   "source": [
    "#Switch column index (change the index position of columns)\n",
    "#Using .pop() and .insert()\n",
    "print('--- Pop column indexes')\n",
    "food4 = food3.pop('Veggies')\n",
    "food4"
   ]
  },
  {
   "cell_type": "code",
   "execution_count": 16,
   "id": "e75884f2-ddff-4400-a57f-80e662d1a25c",
   "metadata": {},
   "outputs": [
    {
     "name": "stdout",
     "output_type": "stream",
     "text": [
      "--- Insert in new index position\n"
     ]
    },
    {
     "data": {
      "text/html": [
       "<div>\n",
       "<style scoped>\n",
       "    .dataframe tbody tr th:only-of-type {\n",
       "        vertical-align: middle;\n",
       "    }\n",
       "\n",
       "    .dataframe tbody tr th {\n",
       "        vertical-align: top;\n",
       "    }\n",
       "\n",
       "    .dataframe thead th {\n",
       "        text-align: right;\n",
       "    }\n",
       "</style>\n",
       "<table border=\"1\" class=\"dataframe\">\n",
       "  <thead>\n",
       "    <tr style=\"text-align: right;\">\n",
       "      <th></th>\n",
       "      <th>Veggies</th>\n",
       "      <th>Produce</th>\n",
       "      <th>Herb&amp;Spice</th>\n",
       "    </tr>\n",
       "  </thead>\n",
       "  <tbody>\n",
       "    <tr>\n",
       "      <th>0</th>\n",
       "      <td>cucumber</td>\n",
       "      <td>apple</td>\n",
       "      <td>thyme</td>\n",
       "    </tr>\n",
       "    <tr>\n",
       "      <th>i</th>\n",
       "      <td>carrot</td>\n",
       "      <td>mango</td>\n",
       "      <td>ginger</td>\n",
       "    </tr>\n",
       "    <tr>\n",
       "      <th>ii</th>\n",
       "      <td>cabbage</td>\n",
       "      <td>lemon</td>\n",
       "      <td>garlic</td>\n",
       "    </tr>\n",
       "    <tr>\n",
       "      <th>iii</th>\n",
       "      <td>spinach</td>\n",
       "      <td>orange</td>\n",
       "      <td>cinnamon</td>\n",
       "    </tr>\n",
       "  </tbody>\n",
       "</table>\n",
       "</div>"
      ],
      "text/plain": [
       "      Veggies Produce Herb&Spice\n",
       "0    cucumber   apple      thyme\n",
       "i      carrot   mango     ginger\n",
       "ii    cabbage   lemon     garlic\n",
       "iii   spinach  orange   cinnamon"
      ]
     },
     "execution_count": 16,
     "metadata": {},
     "output_type": "execute_result"
    }
   ],
   "source": [
    "print('--- Insert in new index position')\n",
    "food3.insert(0, 'Veggies',food4)\n",
    "food3"
   ]
  },
  {
   "cell_type": "markdown",
   "id": "9392b9a3-9dde-4d72-8693-8b540c465386",
   "metadata": {},
   "source": [
    "---"
   ]
  },
  {
   "cell_type": "code",
   "execution_count": 20,
   "id": "c7e29dc8-9407-4b0b-8dc4-e8dad5fbc074",
   "metadata": {},
   "outputs": [
    {
     "name": "stdout",
     "output_type": "stream",
     "text": [
      "Dataframe1\n",
      "   Fruits Vegetables    Spices\n",
      "0   apple   cucumber     thyme\n",
      "1   mango     carrot    ginger\n",
      "2   lemon    cabbage    garlic\n",
      "3  orange    spinach  cinnamon\n",
      "\n",
      "Dataframe2\n",
      "       Produce   Veggies Herb&Spice\n",
      "0        apple  cucumber      thyme\n",
      "i        mango    carrot     ginger\n",
      "ii       lemon   cabbage     garlic\n",
      "iii     orange   spinach   cinnamon\n",
      "iv   pineapple   lettuce     nutmeg\n",
      "v       banana  tomatoes      cumin\n",
      "\n",
      "Dataframe3\n",
      "      Veggies Produce Herb&Spice\n",
      "0    cucumber   apple      thyme\n",
      "i      carrot   mango     ginger\n",
      "ii    cabbage   lemon     garlic\n",
      "iii   spinach  orange   cinnamon\n",
      "\n",
      "Dataframe4\n",
      "0      cucumber\n",
      "i        carrot\n",
      "ii      cabbage\n",
      "iii     spinach\n",
      "Name: Veggies, dtype: object\n"
     ]
    }
   ],
   "source": [
    "print('Dataframe1')\n",
    "print(food)\n",
    "print()\n",
    "print('Dataframe2')\n",
    "print(food2)\n",
    "print()\n",
    "print('Dataframe3')\n",
    "print(food3)\n",
    "print()\n",
    "print('Dataframe4')\n",
    "print(food4)"
   ]
  }
 ],
 "metadata": {
  "kernelspec": {
   "display_name": "Python 3 (ipykernel)",
   "language": "python",
   "name": "python3"
  },
  "language_info": {
   "codemirror_mode": {
    "name": "ipython",
    "version": 3
   },
   "file_extension": ".py",
   "mimetype": "text/x-python",
   "name": "python",
   "nbconvert_exporter": "python",
   "pygments_lexer": "ipython3",
   "version": "3.9.16"
  }
 },
 "nbformat": 4,
 "nbformat_minor": 5
}
